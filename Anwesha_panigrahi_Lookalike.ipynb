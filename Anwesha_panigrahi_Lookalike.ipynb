{
  "nbformat": 4,
  "nbformat_minor": 0,
  "metadata": {
    "colab": {
      "provenance": []
    },
    "kernelspec": {
      "name": "python3",
      "display_name": "Python 3"
    },
    "language_info": {
      "name": "python"
    }
  },
  "cells": [
    {
      "cell_type": "code",
      "execution_count": 6,
      "metadata": {
        "colab": {
          "base_uri": "https://localhost:8080/"
        },
        "id": "vszvjpM62ubK",
        "outputId": "7ecde118-7047-46ce-fc4e-25e4f70c0f50"
      },
      "outputs": [
        {
          "output_type": "stream",
          "name": "stdout",
          "text": [
            "Customers Columns: Index(['CustomerID', 'CustomerName', 'Region', 'SignupDate'], dtype='object')\n",
            "Transactions Columns: Index(['TransactionID', 'CustomerID', 'ProductID', 'TransactionDate',\n",
            "       'Quantity', 'TotalValue', 'Price'],\n",
            "      dtype='object')\n",
            "Products Columns: Index(['ProductID', 'ProductName', 'Category', 'Price'], dtype='object')\n",
            "Merged Columns: Index(['TransactionID', 'CustomerID', 'ProductID', 'TransactionDate',\n",
            "       'Quantity', 'TotalValue', 'Price_x', 'CustomerName', 'Region',\n",
            "       'SignupDate', 'ProductName', 'Category', 'Price_y'],\n",
            "      dtype='object')\n",
            "  TransactionID CustomerID ProductID      TransactionDate  Quantity  \\\n",
            "0        T00001      C0199      P067  2024-08-25 12:38:23         1   \n",
            "1        T00112      C0146      P067  2024-05-27 22:23:54         1   \n",
            "2        T00166      C0127      P067  2024-04-25 07:38:55         1   \n",
            "3        T00272      C0087      P067  2024-03-26 22:55:37         2   \n",
            "4        T00363      C0070      P067  2024-03-21 15:10:10         3   \n",
            "\n",
            "   TotalValue  Price_x     CustomerName         Region  SignupDate  \\\n",
            "0      300.68   300.68   Andrea Jenkins         Europe  2022-12-03   \n",
            "1      300.68   300.68  Brittany Harvey           Asia  2024-09-04   \n",
            "2      300.68   300.68  Kathryn Stevens         Europe  2024-04-04   \n",
            "3      601.36   300.68  Travis Campbell  South America  2024-04-11   \n",
            "4      902.04   300.68    Timothy Perez         Europe  2022-03-15   \n",
            "\n",
            "                       ProductName     Category  Price_y  \n",
            "0  ComfortLiving Bluetooth Speaker  Electronics   300.68  \n",
            "1  ComfortLiving Bluetooth Speaker  Electronics   300.68  \n",
            "2  ComfortLiving Bluetooth Speaker  Electronics   300.68  \n",
            "3  ComfortLiving Bluetooth Speaker  Electronics   300.68  \n",
            "4  ComfortLiving Bluetooth Speaker  Electronics   300.68  \n",
            "Lookalike.csv has been created successfully.\n"
          ]
        }
      ],
      "source": [
        "import pandas as pd\n",
        "from sklearn.metrics.pairwise import cosine_similarity\n",
        "from sklearn.preprocessing import StandardScaler\n",
        "\n",
        "# Load datasets\n",
        "customers = pd.read_csv('/content/Customers.csv')\n",
        "transactions = pd.read_csv('/content/Transactions.csv')\n",
        "products = pd.read_csv('/content/Products.csv')\n",
        "\n",
        "\n",
        "# Inspect column names for debugging\n",
        "print(\"Customers Columns:\", customers.columns)\n",
        "print(\"Transactions Columns:\", transactions.columns)\n",
        "print(\"Products Columns:\", products.columns)\n",
        "\n",
        "# Merge datasets on relevant keys\n",
        "merged = transactions.merge(customers, on=\"CustomerID\").merge(products, on=\"ProductID\")\n",
        "\n",
        "# Inspect merged DataFrame to confirm structure\n",
        "print(\"Merged Columns:\", merged.columns)\n",
        "print(merged.head())\n",
        "\n",
        "\n",
        "amount_col = 'TotalValue'\n",
        "\n",
        "# Aggregate transaction history per customer\n",
        "customer_features = merged.groupby('CustomerID').agg(\n",
        "    total_spent=(amount_col, 'sum'),\n",
        "    avg_transaction_value=(amount_col, 'mean'),\n",
        "    total_transactions=('TransactionID', 'count'),\n",
        "    most_purchased_category=('Category', lambda x: x.mode().iloc[0] if not x.mode().empty else 'Unknown')\n",
        ").reset_index()\n",
        "\n",
        "# Encode categorical features\n",
        "customer_features = pd.get_dummies(customer_features, columns=['most_purchased_category'], drop_first=True)\n",
        "\n",
        "# Normalize features\n",
        "scaler = StandardScaler()\n",
        "normalized_features = scaler.fit_transform(customer_features.drop(columns=['CustomerID']))\n",
        "\n",
        "# Compute Similarity Matrix\n",
        "similarity_matrix = cosine_similarity(normalized_features)\n",
        "\n",
        "# Generate Lookalike Recommendations\n",
        "customer_ids = customer_features['CustomerID'].tolist()\n",
        "recommendations = {}\n",
        "\n",
        "for idx, cust_id in enumerate(customer_ids[:20]):  # For customers C0001 - C0020\n",
        "    similar_customers = sorted(\n",
        "        [(customer_ids[i], similarity_matrix[idx, i]) for i in range(len(customer_ids)) if i != idx],\n",
        "        key=lambda x: x[1], reverse=True\n",
        "    )[:3]\n",
        "    recommendations[cust_id] = similar_customers\n",
        "\n",
        "# Create Lookalike.csv\n",
        "lookalike_data = [{\"cust_id\": cust, \"similar_customers\": str(similar_customers)}\n",
        "                  for cust, similar_customers in recommendations.items()]\n",
        "lookalike_df = pd.DataFrame(lookalike_data)\n",
        "lookalike_df.to_csv('/content/Lookalike.csv', index=False)\n",
        "\n",
        "print(\"Lookalike.csv has been created successfully.\")\n"
      ]
    },
    {
      "cell_type": "code",
      "source": [],
      "metadata": {
        "id": "ubQl79y4267t"
      },
      "execution_count": null,
      "outputs": []
    }
  ]
}